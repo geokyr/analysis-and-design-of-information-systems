{
 "cells": [
  {
   "attachments": {},
   "cell_type": "markdown",
   "metadata": {},
   "source": [
    "# Imports"
   ]
  },
  {
   "attachments": {},
   "cell_type": "markdown",
   "metadata": {},
   "source": [
    "In this section, we import the necessary libraries and modules."
   ]
  },
  {
   "cell_type": "code",
   "execution_count": 1,
   "metadata": {},
   "outputs": [],
   "source": [
    "import matplotlib.pyplot as plt\n",
    "import numpy as np\n",
    "import pandas as pd\n",
    "import re"
   ]
  },
  {
   "attachments": {},
   "cell_type": "markdown",
   "metadata": {},
   "source": [
    "# Cross Validation"
   ]
  },
  {
   "attachments": {},
   "cell_type": "markdown",
   "metadata": {},
   "source": [
    "In this section we check that the outputs of GraphX are the same with the outputs of Flink."
   ]
  },
  {
   "attachments": {},
   "cell_type": "markdown",
   "metadata": {},
   "source": [
    "## Degree Centrality"
   ]
  },
  {
   "cell_type": "code",
   "execution_count": 2,
   "metadata": {},
   "outputs": [
    {
     "name": "stdout",
     "output_type": "stream",
     "text": [
      "The two files contain the same degree values for each vertex.\n"
     ]
    }
   ],
   "source": [
    "# Open the first file and read the combinations of vertex, degree value into a set\n",
    "with open('../workspace-graphx/outputs/degreeCentrality.txt', 'r') as file1:\n",
    "    set1 = set(line.strip() for line in file1)\n",
    "\n",
    "# Open the second file and read the combinations of vertex, degree value into a set\n",
    "with open('../workspace-flink/outputs/degreeCentrality.txt', 'r') as file2:\n",
    "    set2 = set(line.strip() for line in file2)\n",
    "\n",
    "# Check if the two sets contain the same degree values for each vertex\n",
    "if set1 == set2:\n",
    "    print(\"The two files contain the same degree values for each vertex.\")\n",
    "else:\n",
    "    print(\"The two files do not contain the same degree values for each vertex.\")"
   ]
  },
  {
   "attachments": {},
   "cell_type": "markdown",
   "metadata": {},
   "source": [
    "## Shortest Paths"
   ]
  },
  {
   "cell_type": "code",
   "execution_count": 3,
   "metadata": {},
   "outputs": [
    {
     "name": "stdout",
     "output_type": "stream",
     "text": [
      "The two files contain the same shortest paths for each reachable vertex.\n"
     ]
    }
   ],
   "source": [
    "# Open the first file and read the combinations of vertex, shorest path length into a set\n",
    "shortest1 = pd.read_csv('../workspace-graphx/outputs/shortestPaths.txt', sep=\" \", header=None)\n",
    "\n",
    "# Open the second file and read the combinations of vertex, shorest path length into a set\n",
    "shortest2 = pd.read_csv('../workspace-flink/outputs/shortestPaths.txt', sep=\" \", header=None)\n",
    "\n",
    "# Keep only the vertexes that are reachable from the source vertex\n",
    "shortest1 = shortest1[shortest1[1] != np.inf]\n",
    "shortest2 = shortest2[shortest2[1] < 1000000000000]\n",
    "\n",
    "shortest1 = shortest1.astype(int)\n",
    "shortest2 = shortest2.astype(int)\n",
    "\n",
    "# Sort the dataframes by vertex\n",
    "shortest1 = shortest1.sort_values(by=[0])\n",
    "shortest2 = shortest2.sort_values(by=[0])\n",
    "\n",
    "# Reset the index of the dataframes\n",
    "shortest1 = shortest1.reset_index(drop=True)\n",
    "shortest2 = shortest2.reset_index(drop=True)\n",
    "\n",
    "if(shortest1[1].equals(shortest2[1])):\n",
    "    print(\"The two files contain the same shortest paths for each reachable vertex.\")\n",
    "else:\n",
    "    print(\"The two files do not contain the same shortest paths for each reachable vertex.\")"
   ]
  },
  {
   "attachments": {},
   "cell_type": "markdown",
   "metadata": {},
   "source": [
    "## Triangle Count"
   ]
  },
  {
   "cell_type": "code",
   "execution_count": 4,
   "metadata": {},
   "outputs": [
    {
     "name": "stdout",
     "output_type": "stream",
     "text": [
      "The two files contain the same triangle count.\n"
     ]
    }
   ],
   "source": [
    "# Open the first file and read the triangle count\n",
    "with open('../workspace-graphx/outputs/triangleCount.txt', 'r') as file1:\n",
    "    set1 = set(line.strip() for line in file1)\n",
    "\n",
    "# Open the second file and read the triangle count\n",
    "with open('../workspace-flink/outputs/triangleCount.txt', 'r') as file2:\n",
    "    set2 = set(line.strip() for line in file2)\n",
    "\n",
    "# Check if the two sets contain the same triangle count\n",
    "if set1 == set2:\n",
    "    print(\"The two files contain the same triangle count.\")\n",
    "else:\n",
    "    print(\"The two files do not contain the same triangle count.\")"
   ]
  },
  {
   "attachments": {},
   "cell_type": "markdown",
   "metadata": {},
   "source": [
    "## Weakly Connected Components"
   ]
  },
  {
   "cell_type": "code",
   "execution_count": 5,
   "metadata": {},
   "outputs": [
    {
     "name": "stdout",
     "output_type": "stream",
     "text": [
      "The two files contain the same weakly connected components.\n"
     ]
    }
   ],
   "source": [
    "# Open the first file and read the combinations of vertex, component id into a set\n",
    "with open('../workspace-graphx/outputs/weaklyConnectedComponents.txt', 'r') as file1:\n",
    "    set1 = set(line.strip() for line in file1)\n",
    "\n",
    "# Open the second file and read the combinations of vertex, component id into a set\n",
    "with open('../workspace-flink/outputs/weaklyConnectedComponents.txt', 'r') as file2:\n",
    "    set2 = set(line.strip() for line in file2)\n",
    "\n",
    "# Check if the two sets contain the same combinations of vertex, component id\n",
    "if set1 == set2:\n",
    "    print(\"The two files contain the same weakly connected components.\")\n",
    "else:\n",
    "    print(\"The two files do not contain the same weakly connected components.\")"
   ]
  },
  {
   "attachments": {},
   "cell_type": "markdown",
   "metadata": {},
   "source": [
    "# Data Analysis"
   ]
  },
  {
   "attachments": {},
   "cell_type": "markdown",
   "metadata": {},
   "source": [
    "In this section, we perform some analytics on the outputs to validate the results. We will use the GraphX outputs, since both libraries have the same outputs."
   ]
  },
  {
   "attachments": {},
   "cell_type": "markdown",
   "metadata": {},
   "source": [
    "## Degree Centrality"
   ]
  },
  {
   "cell_type": "code",
   "execution_count": 66,
   "metadata": {},
   "outputs": [
    {
     "name": "stdout",
     "output_type": "stream",
     "text": [
      "Max degree: 6353\n",
      "Average degree: 11.6592\n"
     ]
    }
   ],
   "source": [
    "# Read the degree centrality output into a dataframe\n",
    "df = pd.read_csv('../workspace-graphx/outputs/degreeCentrality.txt', sep=\" \", header=None)\n",
    "\n",
    "# Degrees is the second row of the dataframe\n",
    "degrees = df[1]\n",
    "\n",
    "# Find max degree\n",
    "max_degree = max(degrees)\n",
    "print(f\"Max degree: {max_degree}\")\n",
    "\n",
    "# Find average degree\n",
    "average_degree = sum(degrees) / len(degrees)\n",
    "print(f\"Average degree: {average_degree:.4f}\")"
   ]
  },
  {
   "attachments": {},
   "cell_type": "markdown",
   "metadata": {},
   "source": [
    "We can see that both `Max degree` and `Average degree` are in accordance with the values `Maximum degree` and `Average degree` on the [dataset statistics](http://konect.cc/networks/web-Google/)."
   ]
  },
  {
   "cell_type": "code",
   "execution_count": 52,
   "metadata": {},
   "outputs": [
    {
     "data": {
      "image/png": "[encoded data removed]",
      "text/plain": [
       "<Figure size 640x480 with 1 Axes>"
      ]
     },
     "metadata": {},
     "output_type": "display_data"
    }
   ],
   "source": [
    "# Get degrees frequencies\n",
    "dgs, freqs = np.unique(degrees, return_counts=True)\n",
    "\n",
    "# Plot the degree distribution log plot\n",
    "plt.scatter(dgs, freqs, s=8)\n",
    "plt.xlabel(\"Degree\")\n",
    "plt.ylabel(\"Frequency\")\n",
    "plt.title(\"Degree Centrality Distribution Log Plot\")\n",
    "plt.xscale('log')\n",
    "plt.yscale('log')\n",
    "plt.show()"
   ]
  },
  {
   "attachments": {},
   "cell_type": "markdown",
   "metadata": {},
   "source": [
    "We can see that the `Degree Distribution Log Plot` is in accordance with the [plot](http://konect.cc/plot/degree.a.web-Google.full.png) on the [dataset statistics](http://konect.cc/networks/web-Google/)."
   ]
  },
  {
   "attachments": {},
   "cell_type": "markdown",
   "metadata": {},
   "source": [
    "## Shortest Paths"
   ]
  },
  {
   "cell_type": "code",
   "execution_count": 67,
   "metadata": {},
   "outputs": [
    {
     "name": "stdout",
     "output_type": "stream",
     "text": [
      "Number of vertexes that are reachable from the source vertex: 600493\n",
      "Max shortest path: 32.0\n",
      "Average shortest path: 11.2628\n"
     ]
    }
   ],
   "source": [
    "# Read the shortest paths output into a dataframe\n",
    "spaths = pd.read_csv('../workspace-graphx/outputs/shortestPaths.txt', sep=\" \", header=None)\n",
    "\n",
    "# Shortest paths is the second row of the dataframe\n",
    "spaths = spaths[1]\n",
    "\n",
    "# Keep only the vertexes that are reachable from the source vertex\n",
    "spaths = spaths[spaths != np.inf]\n",
    "print(f\"Number of vertexes that are reachable from the source vertex: {spaths.shape[0]}\")\n",
    "\n",
    "# Find max shortest path\n",
    "max_path = max(spaths)\n",
    "print(f\"Max shortest path: {max_path}\")\n",
    "\n",
    "# Find average shortest path\n",
    "avg_path = sum(spaths) / len(spaths)\n",
    "print(f\"Average shortest path: {avg_path:.4f}\")"
   ]
  },
  {
   "attachments": {},
   "cell_type": "markdown",
   "metadata": {},
   "source": [
    "For the shortest paths we really do not have any statistics that we can validate against. As a note, we calculated them with a `source vertex` of `0`."
   ]
  },
  {
   "cell_type": "code",
   "execution_count": 51,
   "metadata": {},
   "outputs": [
    {
     "data": {
      "image/png": "[encoded data removed]",
      "text/plain": [
       "<Figure size 640x480 with 1 Axes>"
      ]
     },
     "metadata": {},
     "output_type": "display_data"
    }
   ],
   "source": [
    "# Get shortest paths frequencies\n",
    "sps, frequencies = np.unique(spaths, return_counts=True)\n",
    "\n",
    "# Plot the shortest paths distribution plot\n",
    "plt.hist(spaths, bins=32)\n",
    "plt.xlabel(\"Shortest Path\")\n",
    "plt.ylabel(\"Frequency\")\n",
    "plt.title(\"Shortest Paths Distribution Plot\")\n",
    "plt.show()"
   ]
  },
  {
   "attachments": {},
   "cell_type": "markdown",
   "metadata": {},
   "source": [
    "We can see that the `Shortest Paths Distribution Plot` is in accordance with the value `Average Shortest Path` we calculated above."
   ]
  },
  {
   "attachments": {},
   "cell_type": "markdown",
   "metadata": {},
   "source": [
    "## Triangle Count"
   ]
  },
  {
   "cell_type": "code",
   "execution_count": 68,
   "metadata": {},
   "outputs": [
    {
     "name": "stdout",
     "output_type": "stream",
     "text": [
      "Triangle count: 13391903\n"
     ]
    }
   ],
   "source": [
    "# Read the triangle count output into a dataframe\n",
    "triangles = pd.read_csv('../workspace-graphx/outputs/triangleCount.txt', sep=\" \", header=None)\n",
    "\n",
    "print(f\"Triangle count: {triangles[0][0]}\")"
   ]
  },
  {
   "attachments": {},
   "cell_type": "markdown",
   "metadata": {},
   "source": [
    "We can see that the `Triangle count` is in accordance with the value `Triangle count` on the [dataset statistics](http://konect.cc/networks/web-Google/)."
   ]
  },
  {
   "attachments": {},
   "cell_type": "markdown",
   "metadata": {},
   "source": [
    "## Weakly Connected Components"
   ]
  },
  {
   "cell_type": "code",
   "execution_count": 70,
   "metadata": {},
   "outputs": [
    {
     "name": "stdout",
     "output_type": "stream",
     "text": [
      "Number of nodes in largest WCC: 855802\n",
      "Index of largest WCC: 0\n"
     ]
    }
   ],
   "source": [
    "# Read the weakly connected components output into a dataframe\n",
    "wcc = pd.read_csv('../workspace-graphx/outputs/weaklyConnectedComponents.txt', sep=\" \", header=None)\n",
    "\n",
    "# Weakly connected components is the second row of the dataframe\n",
    "wcc = wcc[1]\n",
    "\n",
    "# Find number of nodes in largest CC\n",
    "print(f\"Number of nodes in largest WCC: {wcc.value_counts().max()}\")\n",
    "\n",
    "# Find index of largest WCC\n",
    "print(f\"Index of largest WCC: {wcc.value_counts().idxmax()}\")"
   ]
  },
  {
   "attachments": {},
   "cell_type": "markdown",
   "metadata": {},
   "source": [
    "We can see that the `Number of nodes in largest WCC` is in accordance with the value `Size of LCC` on the [dataset statistics](https://snap.stanford.edu/data/web-Google.html)."
   ]
  },
  {
   "attachments": {},
   "cell_type": "markdown",
   "metadata": {},
   "source": [
    "# Time results"
   ]
  },
  {
   "attachments": {},
   "cell_type": "markdown",
   "metadata": {},
   "source": [
    "In this section, we perform some analytics on the run times."
   ]
  },
  {
   "attachments": {},
   "cell_type": "markdown",
   "metadata": {},
   "source": [
    "### Degree Centrality Times"
   ]
  },
  {
   "cell_type": "code",
   "execution_count": 79,
   "metadata": {},
   "outputs": [
    {
     "name": "stdout",
     "output_type": "stream",
     "text": [
      "\n",
      "- GraphX\n",
      "Real times: [34.0, 36.905, 31.356, 34.756, 33.679, 34.411, 29.978, 31.687, 30.177, 32.25]\n",
      "User times: [21.676, 25.044, 19.816, 23.032, 19.656, 22.732, 19.044, 18.664, 18.616, 18.732]\n",
      "Sys times: [1.028, 1.052, 1.056, 1.244, 0.94, 1.116, 0.916, 0.924, 0.964, 0.976]\n",
      "\n",
      "- Flink\n",
      "Real times: [26.572, 23.812, 26.68, 29.377, 24.36, 24.289, 26.23, 25.231, 28.662, 23.598]\n",
      "User times: [8.448, 6.748, 8.484, 9.028, 8.484, 7.78, 8.52, 7.488, 8.376, 6.244]\n",
      "Sys times: [0.532, 0.376, 0.64, 0.932, 0.508, 0.424, 0.836, 0.628, 0.768, 0.576]\n"
     ]
    }
   ],
   "source": [
    "# Read times and seperate them into real, user and sys times in seconds for both GraphX and Flink\n",
    "real_times = []\n",
    "user_times = []\n",
    "sys_times = []\n",
    "\n",
    "for library in ((\"graphx\", \"GraphX\", 0, 10), (\"flink\", \"Flink\", 10, 20)):\n",
    "    with open(f\"../workspace-{library[0]}/times/degreeCentrality.txt\") as f:\n",
    "        for line in f:\n",
    "            real_match = re.search(r\"real\\t(\\d+)m(\\d+.\\d+)s\", line)\n",
    "            if real_match:\n",
    "                real_time = int(real_match.group(1)) * 60 + float(real_match.group(2))\n",
    "                real_times.append(real_time)\n",
    "            \n",
    "            user_match = re.search(r\"user\\t(\\d+)m(\\d+.\\d+)s\", line)\n",
    "            if user_match:\n",
    "                user_time = int(user_match.group(1)) * 60 + float(user_match.group(2))\n",
    "                user_times.append(user_time)\n",
    "\n",
    "            sys_match = re.search(r\"sys\\t(\\d+)m(\\d+.\\d+)s\", line)\n",
    "            if sys_match:\n",
    "                sys_time = int(sys_match.group(1)) * 60 + float(sys_match.group(2))\n",
    "                sys_times.append(sys_time)\n",
    "\n",
    "    print(f\"\\n- {library[1]}\")\n",
    "    print(\"Real times:\", real_times[library[2]:library[3]])\n",
    "    print(\"User times:\", user_times[library[2]:library[3]])\n",
    "    print(\"Sys times:\", sys_times[library[2]:library[3]])"
   ]
  }
 ],
 "metadata": {
  "kernelspec": {
   "display_name": "Python 3",
   "language": "python",
   "name": "python3"
  },
  "language_info": {
   "codemirror_mode": {
    "name": "ipython",
    "version": 3
   },
   "file_extension": ".py",
   "mimetype": "text/x-python",
   "name": "python",
   "nbconvert_exporter": "python",
   "pygments_lexer": "ipython3",
   "version": "3.10.10"
  },
  "orig_nbformat": 4
 },
 "nbformat": 4,
 "nbformat_minor": 2
}
